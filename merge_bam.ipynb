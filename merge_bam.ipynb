{
 "cells": [
  {
   "cell_type": "code",
   "execution_count": 1,
   "metadata": {},
   "outputs": [],
   "source": [
    "#merge PolyA tails/Tract"
   ]
  },
  {
   "cell_type": "code",
   "execution_count": null,
   "metadata": {},
   "outputs": [],
   "source": [
    "%%bash\n",
    "samtools merge -f $TMPDIR/out.bam  \\\n",
    "'B_tot_1/res3/B_tot_1/B_tot_1_sorted_F_plus_R_PoliA.bam' \\\n",
    "'B_tot_2/res3/B_tot_2/B_tot_2_sorted_F_plus_R_PoliA.bam' \\\n",
    "'B_tot_3/res3/B_tot_3/B_tot_3_sorted_F_plus_R_PoliA.bam' \\\n",
    "'B_pol_1/res3/B_pol_1/B_pol_1_sorted_F_plus_R_PoliA.bam' \\\n",
    "'B_pol_2/res3/B_pol_2/B_pol_2_sorted_F_plus_R_PoliA.bam' \\\n",
    "'B_pol_3/res3/B_pol_3/B_pol_3_sorted_F_plus_R_PoliA.bam' \\\n",
    "'B_sub_1/res3/B_sub_1/B_sub_1_sorted_F_plus_R_PoliA.bam' \\\n",
    "'B_sub_2/res3/B_sub_2/B_sub_2_sorted_F_plus_R_PoliA.bam' \\\n",
    "'B_sub_3/res3/B_sub_3/B_sub_3_sorted_F_plus_R_PoliA.bam' \\\n",
    "'P_tot_1/res3/P_tot_1/P_tot_1_sorted_F_plus_R_PoliA.bam' \\\n",
    "'P_tot_2/res3/P_tot_2/P_tot_2_sorted_F_plus_R_PoliA.bam' \\\n",
    "'P_tot_3/res3/P_tot_3/P_tot_3_sorted_F_plus_R_PoliA.bam' \\\n",
    "'P_pol_1/res3/P_pol_1/P_pol_1_sorted_F_plus_R_PoliA.bam' \\\n",
    "'P_pol_2/res3/P_pol_2/P_pol_2_sorted_F_plus_R_PoliA.bam' \\\n",
    "'P_pol_3/res3/P_pol_3/P_pol_3_sorted_F_plus_R_PoliA.bam' \\\n",
    "'P_sub_1/res3/P_sub_1/P_sub_1_sorted_F_plus_R_PoliA.bam' \\\n",
    "'P_sub_2/res3/P_sub_2/P_sub_2_sorted_F_plus_R_PoliA.bam' \\\n",
    "'P_sub_3/res3/P_sub_3/P_sub_3_sorted_F_plus_R_PoliA.bam'\n",
    "samtools sort -@ 10 -o $TMPDIR/all_927_F_plus_R_PoliA.bam $TMPDIR/out.bam\n",
    "rm $TMPDIR/out.bam\n",
    "samtools index $TMPDIR/all_927_F_plus_R_PoliA.bam\n",
    "bedtools genomecov -ibam $TMPDIR/all_927_F_plus_R_PoliA.bam -bg > $TMPDIR/all_927_F_plus_R_PoliA.bed\n",
    "gzip $TMPDIR/all_927_F_plus_R_PoliA.bed\n",
    "\n",
    "rm all_927_F_plus_R_PoliA.bed.gz\n",
    "cp $TMPDIR/all_927_F_plus_R_PoliA.bed.gz ."
   ]
  },
  {
   "cell_type": "code",
   "execution_count": 2,
   "metadata": {},
   "outputs": [],
   "source": [
    "#merge Spliced Leader"
   ]
  },
  {
   "cell_type": "code",
   "execution_count": null,
   "metadata": {},
   "outputs": [],
   "source": [
    "%%bash\n",
    "samtools merge -f $TMPDIR/out.bam  \\\n",
    "'B_tot_1/res3/B_tot_1/B_tot_1_sorted_F_plus_R_SL.bam' \\\n",
    "'B_tot_2/res3/B_tot_2/B_tot_2_sorted_F_plus_R_SL.bam' \\\n",
    "'B_tot_3/res3/B_tot_3/B_tot_3_sorted_F_plus_R_SL.bam' \\\n",
    "'B_pol_1/res3/B_pol_1/B_pol_1_sorted_F_plus_R_SL.bam' \\\n",
    "'B_pol_2/res3/B_pol_2/B_pol_2_sorted_F_plus_R_SL.bam' \\\n",
    "'B_pol_3/res3/B_pol_3/B_pol_3_sorted_F_plus_R_SL.bam' \\\n",
    "'B_sub_1/res3/B_sub_1/B_sub_1_sorted_F_plus_R_SL.bam' \\\n",
    "'B_sub_2/res3/B_sub_2/B_sub_2_sorted_F_plus_R_SL.bam' \\\n",
    "'B_sub_3/res3/B_sub_3/B_sub_3_sorted_F_plus_R_SL.bam' \\\n",
    "'P_tot_1/res3/P_tot_1/P_tot_1_sorted_F_plus_R_SL.bam' \\\n",
    "'P_tot_2/res3/P_tot_2/P_tot_2_sorted_F_plus_R_SL.bam' \\\n",
    "'P_tot_3/res3/P_tot_3/P_tot_3_sorted_F_plus_R_SL.bam' \\\n",
    "'P_pol_1/res3/P_pol_1/P_pol_1_sorted_F_plus_R_SL.bam' \\\n",
    "'P_pol_2/res3/P_pol_2/P_pol_2_sorted_F_plus_R_SL.bam' \\\n",
    "'P_pol_3/res3/P_pol_3/P_pol_3_sorted_F_plus_R_SL.bam' \\\n",
    "'P_sub_1/res3/P_sub_1/P_sub_1_sorted_F_plus_R_SL.bam' \\\n",
    "'P_sub_2/res3/P_sub_2/P_sub_2_sorted_F_plus_R_SL.bam' \\\n",
    "'P_sub_3/res3/P_sub_3/P_sub_3_sorted_F_plus_R_SL.bam'\n",
    "samtools sort -@ 10 -o $TMPDIR/all_927_F_plus_R_SL.bam $TMPDIR/out.bam\n",
    "rm $TMPDIR/out.bam\n",
    "samtools index $TMPDIR/all_927_F_plus_R_SL.bam\n",
    "bedtools genomecov -ibam $TMPDIR/all_927_F_plus_R_SL.bam -bg > $TMPDIR/all_927_F_plus_R_SL.bed\n",
    "gzip $TMPDIR/all_927_F_plus_R_SL.bed\n",
    "\n",
    "rm all_927_F_plus_R_SL.bed.gz\n",
    "cp $TMPDIR/all_927_F_plus_R_SL.bed.gz ."
   ]
  }
 ],
 "metadata": {
  "kernelspec": {
   "display_name": "Python 3",
   "language": "python",
   "name": "python3"
  },
  "language_info": {
   "codemirror_mode": {
    "name": "ipython",
    "version": 3
   },
   "file_extension": ".py",
   "mimetype": "text/x-python",
   "name": "python",
   "nbconvert_exporter": "python",
   "pygments_lexer": "ipython3",
   "version": "3.7.3"
  },
  "toc": {
   "base_numbering": 1,
   "nav_menu": {},
   "number_sections": true,
   "sideBar": true,
   "skip_h1_title": false,
   "title_cell": "Table of Contents",
   "title_sidebar": "Contents",
   "toc_cell": false,
   "toc_position": {},
   "toc_section_display": true,
   "toc_window_display": false
  }
 },
 "nbformat": 4,
 "nbformat_minor": 2
}
